{
 "cells": [
  {
   "cell_type": "code",
   "execution_count": 1,
   "id": "81514014",
   "metadata": {},
   "outputs": [
    {
     "data": {
      "text/html": [
       "<div>\n",
       "<style scoped>\n",
       "    .dataframe tbody tr th:only-of-type {\n",
       "        vertical-align: middle;\n",
       "    }\n",
       "\n",
       "    .dataframe tbody tr th {\n",
       "        vertical-align: top;\n",
       "    }\n",
       "\n",
       "    .dataframe thead th {\n",
       "        text-align: right;\n",
       "    }\n",
       "</style>\n",
       "<table border=\"1\" class=\"dataframe\">\n",
       "  <thead>\n",
       "    <tr style=\"text-align: right;\">\n",
       "      <th></th>\n",
       "      <th>ID</th>\n",
       "      <th>CLASS</th>\n",
       "      <th>FPG</th>\n",
       "      <th>HOMA_IR</th>\n",
       "      <th>Total_TAG</th>\n",
       "      <th>2hr_OGTT</th>\n",
       "      <th>T_CE</th>\n",
       "      <th>T_TAG</th>\n",
       "      <th>T_DAG</th>\n",
       "      <th>T_FFA</th>\n",
       "      <th>...</th>\n",
       "      <th>total DMA</th>\n",
       "      <th>alpha-AAA</th>\n",
       "      <th>Creatinine</th>\n",
       "      <th>Kynurenine</th>\n",
       "      <th>Met-SO</th>\n",
       "      <th>t4-OH-Pro</th>\n",
       "      <th>Putrescine</th>\n",
       "      <th>Serotonin</th>\n",
       "      <th>Spermidine</th>\n",
       "      <th>Taurine</th>\n",
       "    </tr>\n",
       "  </thead>\n",
       "  <tbody>\n",
       "    <tr>\n",
       "      <th>0</th>\n",
       "      <td>Participant-1</td>\n",
       "      <td>0</td>\n",
       "      <td>6.426266</td>\n",
       "      <td>2.336573</td>\n",
       "      <td>5.781363</td>\n",
       "      <td>6.491854</td>\n",
       "      <td>12.09865</td>\n",
       "      <td>10.273816</td>\n",
       "      <td>4.086167</td>\n",
       "      <td>9.443437</td>\n",
       "      <td>...</td>\n",
       "      <td>0.111588</td>\n",
       "      <td>1.874979</td>\n",
       "      <td>6.710942</td>\n",
       "      <td>2.394366</td>\n",
       "      <td>-5.852678</td>\n",
       "      <td>4.214117</td>\n",
       "      <td>-3.462398</td>\n",
       "      <td>-1.018531</td>\n",
       "      <td>-1.642998</td>\n",
       "      <td>6.532927</td>\n",
       "    </tr>\n",
       "    <tr>\n",
       "      <th>1</th>\n",
       "      <td>Participant-4</td>\n",
       "      <td>0</td>\n",
       "      <td>6.741468</td>\n",
       "      <td>3.109857</td>\n",
       "      <td>7.906891</td>\n",
       "      <td>7.451211</td>\n",
       "      <td>12.09865</td>\n",
       "      <td>10.807138</td>\n",
       "      <td>4.907486</td>\n",
       "      <td>8.901539</td>\n",
       "      <td>...</td>\n",
       "      <td>-0.692381</td>\n",
       "      <td>-0.488355</td>\n",
       "      <td>6.008138</td>\n",
       "      <td>0.756260</td>\n",
       "      <td>-3.400239</td>\n",
       "      <td>2.677591</td>\n",
       "      <td>-3.313604</td>\n",
       "      <td>0.813043</td>\n",
       "      <td>-2.012510</td>\n",
       "      <td>7.612722</td>\n",
       "    </tr>\n",
       "    <tr>\n",
       "      <th>2</th>\n",
       "      <td>Participant-6</td>\n",
       "      <td>0</td>\n",
       "      <td>6.672426</td>\n",
       "      <td>3.621295</td>\n",
       "      <td>7.000001</td>\n",
       "      <td>6.942515</td>\n",
       "      <td>12.09865</td>\n",
       "      <td>10.273816</td>\n",
       "      <td>4.379796</td>\n",
       "      <td>8.802699</td>\n",
       "      <td>...</td>\n",
       "      <td>-0.032965</td>\n",
       "      <td>0.487615</td>\n",
       "      <td>6.008138</td>\n",
       "      <td>1.285267</td>\n",
       "      <td>-4.594876</td>\n",
       "      <td>3.496043</td>\n",
       "      <td>-7.375598</td>\n",
       "      <td>-1.504665</td>\n",
       "      <td>-2.644530</td>\n",
       "      <td>6.185453</td>\n",
       "    </tr>\n",
       "    <tr>\n",
       "      <th>3</th>\n",
       "      <td>Participant-7</td>\n",
       "      <td>0</td>\n",
       "      <td>6.491854</td>\n",
       "      <td>1.563326</td>\n",
       "      <td>7.011228</td>\n",
       "      <td>6.629358</td>\n",
       "      <td>12.09865</td>\n",
       "      <td>10.273816</td>\n",
       "      <td>4.281923</td>\n",
       "      <td>8.522484</td>\n",
       "      <td>...</td>\n",
       "      <td>0.226960</td>\n",
       "      <td>0.382100</td>\n",
       "      <td>6.440727</td>\n",
       "      <td>2.198089</td>\n",
       "      <td>-2.392424</td>\n",
       "      <td>4.504812</td>\n",
       "      <td>-3.638916</td>\n",
       "      <td>-2.520678</td>\n",
       "      <td>-2.473015</td>\n",
       "      <td>5.894638</td>\n",
       "    </tr>\n",
       "    <tr>\n",
       "      <th>4</th>\n",
       "      <td>Participant-8</td>\n",
       "      <td>0</td>\n",
       "      <td>6.539160</td>\n",
       "      <td>1.997820</td>\n",
       "      <td>6.285404</td>\n",
       "      <td>6.954197</td>\n",
       "      <td>12.09865</td>\n",
       "      <td>9.228706</td>\n",
       "      <td>3.965879</td>\n",
       "      <td>8.901539</td>\n",
       "      <td>...</td>\n",
       "      <td>1.018463</td>\n",
       "      <td>0.024295</td>\n",
       "      <td>6.532927</td>\n",
       "      <td>2.766317</td>\n",
       "      <td>-8.606643</td>\n",
       "      <td>3.550989</td>\n",
       "      <td>-2.483951</td>\n",
       "      <td>-1.491908</td>\n",
       "      <td>-1.194648</td>\n",
       "      <td>6.267509</td>\n",
       "    </tr>\n",
       "  </tbody>\n",
       "</table>\n",
       "<p>5 rows × 107 columns</p>\n",
       "</div>"
      ],
      "text/plain": [
       "              ID  CLASS       FPG   HOMA_IR  Total_TAG  2hr_OGTT      T_CE  \\\n",
       "0  Participant-1      0  6.426266  2.336573   5.781363  6.491854  12.09865   \n",
       "1  Participant-4      0  6.741468  3.109857   7.906891  7.451211  12.09865   \n",
       "2  Participant-6      0  6.672426  3.621295   7.000001  6.942515  12.09865   \n",
       "3  Participant-7      0  6.491854  1.563326   7.011228  6.629358  12.09865   \n",
       "4  Participant-8      0  6.539160  1.997820   6.285404  6.954197  12.09865   \n",
       "\n",
       "       T_TAG     T_DAG     T_FFA  ...  total DMA  alpha-AAA  Creatinine  \\\n",
       "0  10.273816  4.086167  9.443437  ...   0.111588   1.874979    6.710942   \n",
       "1  10.807138  4.907486  8.901539  ...  -0.692381  -0.488355    6.008138   \n",
       "2  10.273816  4.379796  8.802699  ...  -0.032965   0.487615    6.008138   \n",
       "3  10.273816  4.281923  8.522484  ...   0.226960   0.382100    6.440727   \n",
       "4   9.228706  3.965879  8.901539  ...   1.018463   0.024295    6.532927   \n",
       "\n",
       "   Kynurenine    Met-SO  t4-OH-Pro  Putrescine  Serotonin  Spermidine  \\\n",
       "0    2.394366 -5.852678   4.214117   -3.462398  -1.018531   -1.642998   \n",
       "1    0.756260 -3.400239   2.677591   -3.313604   0.813043   -2.012510   \n",
       "2    1.285267 -4.594876   3.496043   -7.375598  -1.504665   -2.644530   \n",
       "3    2.198089 -2.392424   4.504812   -3.638916  -2.520678   -2.473015   \n",
       "4    2.766317 -8.606643   3.550989   -2.483951  -1.491908   -1.194648   \n",
       "\n",
       "    Taurine  \n",
       "0  6.532927  \n",
       "1  7.612722  \n",
       "2  6.185453  \n",
       "3  5.894638  \n",
       "4  6.267509  \n",
       "\n",
       "[5 rows x 107 columns]"
      ]
     },
     "execution_count": 1,
     "metadata": {},
     "output_type": "execute_result"
    }
   ],
   "source": [
    "# Import our dependencies\n",
    "from sklearn.model_selection import train_test_split\n",
    "from sklearn.preprocessing import StandardScaler,OneHotEncoder\n",
    "import pandas as pd\n",
    "import tensorflow as tf\n",
    "\n",
    "#  Import and read the Diabetes_data.csv.\n",
    "import pandas as pd \n",
    "Diabetes_df = pd.read_csv('C:/BootCamp_DataAnalytics/Module_challenges/FINAL PROJECT/Diabetes dataset_Group12.csv')\n",
    "Diabetes_df.head()"
   ]
  },
  {
   "cell_type": "code",
   "execution_count": 2,
   "id": "6878c931",
   "metadata": {},
   "outputs": [],
   "source": [
    "# Drop the non-beneficial ID columns, 'ID' .\n",
    "Diabetes_df.drop(['ID'], axis=1, inplace=True)"
   ]
  },
  {
   "cell_type": "code",
   "execution_count": 3,
   "id": "827aa832",
   "metadata": {},
   "outputs": [
    {
     "data": {
      "text/plain": [
       "CLASS          2\n",
       "FPG           31\n",
       "HOMA_IR       58\n",
       "Total_TAG     52\n",
       "2hr_OGTT      43\n",
       "              ..\n",
       "t4-OH-Pro     48\n",
       "Putrescine    50\n",
       "Serotonin     55\n",
       "Spermidine    48\n",
       "Taurine       42\n",
       "Length: 106, dtype: int64"
      ]
     },
     "execution_count": 3,
     "metadata": {},
     "output_type": "execute_result"
    }
   ],
   "source": [
    "# Determine the number of unique values in each column.\n",
    "Diabetes_df.nunique()"
   ]
  },
  {
   "cell_type": "code",
   "execution_count": 4,
   "id": "777a4f16",
   "metadata": {},
   "outputs": [
    {
     "data": {
      "text/plain": [
       "1    30\n",
       "0    28\n",
       "Name: CLASS, dtype: int64"
      ]
     },
     "execution_count": 4,
     "metadata": {},
     "output_type": "execute_result"
    }
   ],
   "source": [
    "# Look at APPLICATION_TYPE value counts for binning\n",
    "CLASS_counts = Diabetes_df['CLASS'].value_counts()\n",
    "CLASS_counts"
   ]
  },
  {
   "cell_type": "code",
   "execution_count": 5,
   "id": "25016a4a",
   "metadata": {},
   "outputs": [
    {
     "data": {
      "text/plain": [
       "<AxesSubplot:ylabel='Density'>"
      ]
     },
     "execution_count": 5,
     "metadata": {},
     "output_type": "execute_result"
    },
    {
     "data": {
      "image/png": "[encoded data removed]",
      "text/plain": [
       "<Figure size 432x288 with 1 Axes>"
      ]
     },
     "metadata": {
      "needs_background": "light"
     },
     "output_type": "display_data"
    }
   ],
   "source": [
    "# Visualize the value counts of CLASS\n",
    "CLASS_counts.plot.density()"
   ]
  },
  {
   "cell_type": "code",
   "execution_count": 11,
   "id": "ea2c8e7b",
   "metadata": {},
   "outputs": [
    {
     "name": "stderr",
     "output_type": "stream",
     "text": [
      "C:\\Users\\saifu\\AppData\\Local\\Temp/ipykernel_37064/1596219685.py:3: FutureWarning: In a future version of pandas all arguments of DataFrame.drop except for the argument 'labels' will be keyword-only\n",
      "  X = Diabetes_df.drop(['CLASS'],1).values\n"
     ]
    }
   ],
   "source": [
    "# Split our preprocessed data into our features and target arrays\n",
    "y = Diabetes_df['CLASS'].values\n",
    "X = Diabetes_df.drop(['CLASS'],1).values\n",
    "# Split the preprocessed data into a training and testing dataset\n",
    "X_train, X_test, y_train, y_test = train_test_split(X, y, random_state=78)"
   ]
  },
  {
   "cell_type": "code",
   "execution_count": 12,
   "id": "8790ad89",
   "metadata": {},
   "outputs": [
    {
     "name": "stdout",
     "output_type": "stream",
     "text": [
      "Model: \"sequential\"\n",
      "_________________________________________________________________\n",
      " Layer (type)                Output Shape              Param #   \n",
      "=================================================================\n",
      " dense (Dense)               (None, 80)                8480      \n",
      "                                                                 \n",
      " dense_1 (Dense)             (None, 30)                2430      \n",
      "                                                                 \n",
      " dense_2 (Dense)             (None, 1)                 31        \n",
      "                                                                 \n",
      "=================================================================\n",
      "Total params: 10,941\n",
      "Trainable params: 10,941\n",
      "Non-trainable params: 0\n",
      "_________________________________________________________________\n"
     ]
    }
   ],
   "source": [
    "# Define the model - deep neural net, i.e., the number of input features and hidden nodes for each layer.\n",
    "number_input_features = len(X_train[0])\n",
    "hidden_nodes_layer1 = 80\n",
    "hidden_nodes_layer2 = 30\n",
    "\n",
    "nn = tf.keras.models.Sequential()\n",
    "\n",
    "# First hidden layer\n",
    "nn.add(tf.keras.layers.Dense(units=hidden_nodes_layer1, input_dim=number_input_features, activation=\"relu\"))\n",
    "\n",
    "# Second hidden layer\n",
    "nn.add(tf.keras.layers.Dense(units=hidden_nodes_layer2, activation=\"relu\"))\n",
    "\n",
    "# Output layer\n",
    "nn.add(tf.keras.layers.Dense(units=1, activation=\"sigmoid\"))\n",
    "\n",
    "# Check the structure of the model\n",
    "nn.summary()"
   ]
  },
  {
   "cell_type": "code",
   "execution_count": 13,
   "id": "9bab1668",
   "metadata": {},
   "outputs": [],
   "source": [
    "# Compile the model\n",
    "nn.compile(loss=\"binary_crossentropy\", optimizer=\"adam\", metrics=[\"accuracy\"])"
   ]
  },
  {
   "cell_type": "code",
   "execution_count": 14,
   "id": "d13b60d7",
   "metadata": {},
   "outputs": [
    {
     "name": "stdout",
     "output_type": "stream",
     "text": [
      "Epoch 1/30\n",
      "2/2 [==============================] - 4s 4ms/step - loss: 0.8212 - accuracy: 0.4651\n",
      "Epoch 2/30\n",
      "2/2 [==============================] - 0s 5ms/step - loss: 0.6376 - accuracy: 0.6512\n",
      "Epoch 3/30\n",
      "2/2 [==============================] - 0s 3ms/step - loss: 0.8471 - accuracy: 0.5581\n",
      "Epoch 4/30\n",
      "2/2 [==============================] - 0s 4ms/step - loss: 0.7275 - accuracy: 0.5814\n",
      "Epoch 5/30\n",
      "2/2 [==============================] - 0s 5ms/step - loss: 0.6664 - accuracy: 0.6279\n",
      "Epoch 6/30\n",
      "2/2 [==============================] - 0s 3ms/step - loss: 0.6344 - accuracy: 0.6512\n",
      "Epoch 7/30\n",
      "2/2 [==============================] - 0s 4ms/step - loss: 0.5757 - accuracy: 0.6744\n",
      "Epoch 8/30\n",
      "2/2 [==============================] - 0s 4ms/step - loss: 0.5903 - accuracy: 0.6512\n",
      "Epoch 9/30\n",
      "2/2 [==============================] - 0s 3ms/step - loss: 0.6002 - accuracy: 0.6512\n",
      "Epoch 10/30\n",
      "2/2 [==============================] - 0s 4ms/step - loss: 0.5528 - accuracy: 0.7209\n",
      "Epoch 11/30\n",
      "2/2 [==============================] - 0s 3ms/step - loss: 0.5533 - accuracy: 0.7442\n",
      "Epoch 12/30\n",
      "2/2 [==============================] - 0s 4ms/step - loss: 0.5704 - accuracy: 0.6512\n",
      "Epoch 13/30\n",
      "2/2 [==============================] - 0s 4ms/step - loss: 0.5536 - accuracy: 0.7442\n",
      "Epoch 14/30\n",
      "2/2 [==============================] - 0s 4ms/step - loss: 0.5218 - accuracy: 0.7674\n",
      "Epoch 15/30\n",
      "2/2 [==============================] - 0s 5ms/step - loss: 0.5240 - accuracy: 0.7674\n",
      "Epoch 16/30\n",
      "2/2 [==============================] - 0s 4ms/step - loss: 0.5136 - accuracy: 0.7674\n",
      "Epoch 17/30\n",
      "2/2 [==============================] - 0s 4ms/step - loss: 0.5080 - accuracy: 0.7442\n",
      "Epoch 18/30\n",
      "2/2 [==============================] - 0s 4ms/step - loss: 0.5055 - accuracy: 0.7674\n",
      "Epoch 19/30\n",
      "2/2 [==============================] - 0s 3ms/step - loss: 0.4985 - accuracy: 0.7674\n",
      "Epoch 20/30\n",
      "2/2 [==============================] - 0s 4ms/step - loss: 0.4893 - accuracy: 0.7674\n",
      "Epoch 21/30\n",
      "2/2 [==============================] - 0s 3ms/step - loss: 0.4868 - accuracy: 0.7907\n",
      "Epoch 22/30\n",
      "2/2 [==============================] - 0s 4ms/step - loss: 0.4824 - accuracy: 0.7907\n",
      "Epoch 23/30\n",
      "2/2 [==============================] - 0s 3ms/step - loss: 0.4874 - accuracy: 0.7907\n",
      "Epoch 24/30\n",
      "2/2 [==============================] - 0s 4ms/step - loss: 0.4685 - accuracy: 0.8140\n",
      "Epoch 25/30\n",
      "2/2 [==============================] - 0s 4ms/step - loss: 0.4782 - accuracy: 0.8140\n",
      "Epoch 26/30\n",
      "2/2 [==============================] - 0s 4ms/step - loss: 0.4763 - accuracy: 0.8372\n",
      "Epoch 27/30\n",
      "2/2 [==============================] - 0s 4ms/step - loss: 0.4508 - accuracy: 0.7907\n",
      "Epoch 28/30\n",
      "2/2 [==============================] - 0s 3ms/step - loss: 0.4932 - accuracy: 0.6977\n",
      "Epoch 29/30\n",
      "2/2 [==============================] - 0s 4ms/step - loss: 0.4958 - accuracy: 0.7209\n",
      "Epoch 30/30\n",
      "2/2 [==============================] - 0s 4ms/step - loss: 0.4445 - accuracy: 0.7907\n"
     ]
    }
   ],
   "source": [
    "# Train the model\n",
    "fit_model = nn.fit(X_train, y_train,epochs=30)"
   ]
  },
  {
   "cell_type": "code",
   "execution_count": 16,
   "id": "43856d0d",
   "metadata": {},
   "outputs": [
    {
     "name": "stdout",
     "output_type": "stream",
     "text": [
      "1/1 - 0s - loss: 0.6260 - accuracy: 0.7333 - 144ms/epoch - 144ms/step\n",
      "Loss: 0.625988781452179, Accuracy: 0.7333333492279053\n"
     ]
    }
   ],
   "source": [
    "# Evaluate the model using the test data\n",
    "model_loss, model_accuracy = nn.evaluate(X_test,y_test,verbose=2)\n",
    "print(f\"Loss: {model_loss}, Accuracy: {model_accuracy}\")"
   ]
  },
  {
   "cell_type": "code",
   "execution_count": 17,
   "id": "8fd9b571",
   "metadata": {},
   "outputs": [],
   "source": [
    "# Export our model to HDF5 file\n",
    "nn.save(\"DeepLearning_Diabetes.h5\")"
   ]
  },
  {
   "cell_type": "code",
   "execution_count": null,
   "id": "8b501afe",
   "metadata": {},
   "outputs": [],
   "source": []
  }
 ],
 "metadata": {
  "kernelspec": {
   "display_name": "Python 3 (ipykernel)",
   "language": "python",
   "name": "python3"
  },
  "language_info": {
   "codemirror_mode": {
    "name": "ipython",
    "version": 3
   },
   "file_extension": ".py",
   "mimetype": "text/x-python",
   "name": "python",
   "nbconvert_exporter": "python",
   "pygments_lexer": "ipython3",
   "version": "3.9.7"
  }
 },
 "nbformat": 4,
 "nbformat_minor": 5
}
